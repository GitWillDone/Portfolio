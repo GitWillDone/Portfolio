{
 "cells": [
  {
   "cell_type": "markdown",
   "metadata": {},
   "source": [
    "# __Homework 4 Analysis__"
   ]
  },
  {
   "cell_type": "code",
   "execution_count": 5,
   "metadata": {},
   "outputs": [],
   "source": [
    "import pandas as pd\n",
    "import numpy as np\n",
    "import matplotlib.pyplot as plt\n",
    "import statsmodels.api as sm"
   ]
  },
  {
   "cell_type": "code",
   "execution_count": 84,
   "metadata": {},
   "outputs": [
    {
     "data": {
      "text/html": [
       "<div>\n",
       "<style scoped>\n",
       "    .dataframe tbody tr th:only-of-type {\n",
       "        vertical-align: middle;\n",
       "    }\n",
       "\n",
       "    .dataframe tbody tr th {\n",
       "        vertical-align: top;\n",
       "    }\n",
       "\n",
       "    .dataframe thead th {\n",
       "        text-align: right;\n",
       "    }\n",
       "</style>\n",
       "<table border=\"1\" class=\"dataframe\">\n",
       "  <thead>\n",
       "    <tr style=\"text-align: right;\">\n",
       "      <th></th>\n",
       "      <th>K</th>\n",
       "      <th>Dimension</th>\n",
       "      <th>Number of Points</th>\n",
       "      <th>Time</th>\n",
       "      <th>Distribution</th>\n",
       "      <th>Distribution_Num</th>\n",
       "    </tr>\n",
       "  </thead>\n",
       "  <tbody>\n",
       "    <tr>\n",
       "      <th>0</th>\n",
       "      <td>1</td>\n",
       "      <td>2</td>\n",
       "      <td>50</td>\n",
       "      <td>1.820000e-07</td>\n",
       "      <td>Uniform</td>\n",
       "      <td>0</td>\n",
       "    </tr>\n",
       "    <tr>\n",
       "      <th>1</th>\n",
       "      <td>2</td>\n",
       "      <td>2</td>\n",
       "      <td>50</td>\n",
       "      <td>1.284000e-07</td>\n",
       "      <td>Uniform</td>\n",
       "      <td>0</td>\n",
       "    </tr>\n",
       "    <tr>\n",
       "      <th>2</th>\n",
       "      <td>3</td>\n",
       "      <td>2</td>\n",
       "      <td>50</td>\n",
       "      <td>1.254000e-07</td>\n",
       "      <td>Uniform</td>\n",
       "      <td>0</td>\n",
       "    </tr>\n",
       "    <tr>\n",
       "      <th>3</th>\n",
       "      <td>4</td>\n",
       "      <td>2</td>\n",
       "      <td>50</td>\n",
       "      <td>1.260000e-07</td>\n",
       "      <td>Uniform</td>\n",
       "      <td>0</td>\n",
       "    </tr>\n",
       "    <tr>\n",
       "      <th>4</th>\n",
       "      <td>5</td>\n",
       "      <td>2</td>\n",
       "      <td>50</td>\n",
       "      <td>1.261000e-07</td>\n",
       "      <td>Uniform</td>\n",
       "      <td>0</td>\n",
       "    </tr>\n",
       "  </tbody>\n",
       "</table>\n",
       "</div>"
      ],
      "text/plain": [
       "   K  Dimension  Number of Points          Time Distribution  Distribution_Num\n",
       "0  1          2                50  1.820000e-07      Uniform                 0\n",
       "1  2          2                50  1.284000e-07      Uniform                 0\n",
       "2  3          2                50  1.254000e-07      Uniform                 0\n",
       "3  4          2                50  1.260000e-07      Uniform                 0\n",
       "4  5          2                50  1.261000e-07      Uniform                 0"
      ]
     },
     "execution_count": 84,
     "metadata": {},
     "output_type": "execute_result"
    }
   ],
   "source": [
    "\n",
    "def helper(t):\n",
    "    if t == 'Gaussian':\n",
    "        return 1\n",
    "    else:\n",
    "        return 0\n",
    "    \n",
    "df_bucket = pd.read_csv(\"/Users/willdunn/GitWillDone/Data_Analytics_and_Vis/Homeworks/Homework4/Results/bucket.csv\")\n",
    "df_bucket['Distribution'] = df_bucket['Distribution'].astype(str)\n",
    "df_bucket['Distribution_Num'] = df_bucket.apply(lambda row: helper(row.Distribution), axis=1)\n",
    "\n",
    "df_kd = pd.read_csv(\"/Users/willdunn/GitWillDone/Data_Analytics_and_Vis/Homeworks/Homework4/Results/kdtree.csv\")\n",
    "df_kd['Distribution'] = df_kd['Distribution'].astype(str)\n",
    "df_kd['Distribution_Num'] = df_kd.apply(lambda row: helper(row.Distribution), axis=1)\n",
    "\n",
    "df_quad = pd.read_csv(\"/Users/willdunn/GitWillDone/Data_Analytics_and_Vis/Homeworks/Homework4/Results/quadtree.csv\")\n",
    "df_quad['Distribution'] = df_quad['Distribution'].astype(str)\n",
    "df_quad['Distribution_Num'] = df_quad.apply(lambda row: helper(row.Distribution), axis=1)\n",
    "df_quad.head()"
   ]
  },
  {
   "cell_type": "markdown",
   "metadata": {},
   "source": [
    "# K-Analysis"
   ]
  },
  {
   "cell_type": "code",
   "execution_count": 39,
   "metadata": {},
   "outputs": [
    {
     "data": {
      "image/png": "[encoded data removed]",
      "text/plain": [
       "<Figure size 432x288 with 1 Axes>"
      ]
     },
     "metadata": {
      "needs_background": "light"
     },
     "output_type": "display_data"
    }
   ],
   "source": [
    "\n",
    "df_k_bucket = df_bucket[(df_bucket['Dimension'] == 2) & \n",
    "                        (df_bucket['Number of Points'] == 12800) &\n",
    "                        (df_bucket['Distribution'] == 'Uniform')]\n",
    "\n",
    "df_k_kd = df_kd[(df_kd['Dimension'] == 2) & (df_kd['Number of Points'] == 12800) &\n",
    "                        (df_kd['Distribution'] == 'Uniform')]\n",
    "\n",
    "df_k_quad = df_quad[(df_quad['Dimension'] == 2) & (df_quad['Number of Points'] == 12800) &\n",
    "                        (df_quad['Distribution'] == 'Uniform')]\n",
    "\n",
    "plt.plot(df_k_bucket[\"K\"], df_k_bucket[\"Time\"], 'r', label=\"Bucket\")\n",
    "plt.plot(df_k_kd[\"K\"], df_k_kd[\"Time\"], 'g', label=\"KD\")\n",
    "plt.plot(df_k_quad[\"K\"], df_k_quad[\"Time\"], 'b', label=\"QT\")\n",
    "plt.legend()\n",
    "plt.show()"
   ]
  },
  {
   "cell_type": "markdown",
   "metadata": {},
   "source": [
    "## Results: \n",
    "\n",
    "From the plot above we can see that the quad-tree, in most occassions, outperformed the other two data structures (DS) in terms of time to complete the queries.  The KD exhibited linear growth, but the other two did not seem to have much of an affect (an asymptotic behavioral line would shows almost a constant line/behavior) as the K increased. "
   ]
  },
  {
   "cell_type": "markdown",
   "metadata": {},
   "source": [
    "# Dimension Analysis"
   ]
  },
  {
   "cell_type": "code",
   "execution_count": 85,
   "metadata": {},
   "outputs": [
    {
     "data": {
      "text/plain": [
       "<matplotlib.legend.Legend at 0x121707e80>"
      ]
     },
     "execution_count": 85,
     "metadata": {},
     "output_type": "execute_result"
    },
    {
     "data": {
      "image/png": "[encoded data removed]",
      "text/plain": [
       "<Figure size 432x288 with 1 Axes>"
      ]
     },
     "metadata": {
      "needs_background": "light"
     },
     "output_type": "display_data"
    }
   ],
   "source": [
    "df_dim_bucket = df_bucket[(df_bucket['K'] == 8) & \n",
    "                        (df_bucket['Number of Points'] == 12800) &\n",
    "                        (df_bucket['Distribution'] == 'Uniform')]\n",
    "\n",
    "df_dim_kd = df_kd[(df_kd['K'] == 8) & (df_kd['Number of Points'] == 12800) &\n",
    "                        (df_kd['Distribution'] == 'Uniform')]\n",
    "\n",
    "plt.plot(df_dim_bucket[\"Dimension\"], df_dim_bucket[\"Time\"], 'r', label =\"Bucket\")\n",
    "plt.plot(df_dim_kd[\"Dimension\"], df_dim_kd[\"Time\"], 'g', label = \"KD\")\n",
    "plt.legend()"
   ]
  },
  {
   "cell_type": "markdown",
   "metadata": {},
   "source": [
    "## Results: \n",
    "### Note: the QT has a consistent dimension value of 2, so it was not used in the analysis.\n",
    "\n",
    "As the dimensions increase, both KD and Bucket data structures decrease in their time to complete queries and other related functions.  While the Bucket begins with a grandiose difference in timing (a magnitude of more than 100%), this difference is less disparanging as the number of dimensions increase.\n",
    "\n",
    "Time spend seems to be inversely proportional to the amount of dimensions in the relevant data structures."
   ]
  },
  {
   "cell_type": "markdown",
   "metadata": {},
   "source": [
    "# Sample Size Analysis"
   ]
  },
  {
   "cell_type": "code",
   "execution_count": 86,
   "metadata": {},
   "outputs": [
    {
     "data": {
      "text/plain": [
       "<matplotlib.legend.Legend at 0x121afb780>"
      ]
     },
     "execution_count": 86,
     "metadata": {},
     "output_type": "execute_result"
    },
    {
     "data": {
      "image/png": "[encoded data removed]",
      "text/plain": [
       "<Figure size 432x288 with 1 Axes>"
      ]
     },
     "metadata": {
      "needs_background": "light"
     },
     "output_type": "display_data"
    }
   ],
   "source": [
    "df_num_bucket = df_bucket[(df_bucket['Dimension'] == 2) & (df_bucket['K'] == 8) &\n",
    "                        (df_bucket['Distribution'] == 'Uniform')]\n",
    "\n",
    "df_num_kd = df_kd[(df_kd['Dimension'] == 2) & (df_kd['K'] == 8) & \n",
    "                  (df_kd['Distribution'] == 'Uniform')]\n",
    "\n",
    "df_num_quad = df_quad[(df_quad['Dimension'] == 2) & (df_quad['K'] == 8) &\n",
    "                        (df_quad['Distribution'] == 'Uniform')]\n",
    "\n",
    "plt.plot(df_num_bucket[\"Number of Points\"], df_num_bucket[\"Time\"], 'r', label = 'Bucket')\n",
    "plt.plot(df_num_kd[\"Number of Points\"], df_num_kd[\"Time\"], 'g', label = 'KD')\n",
    "plt.plot(df_num_quad[\"Number of Points\"], df_num_quad[\"Time\"], 'b', label = 'QT')\n",
    "plt.legend()"
   ]
  },
  {
   "cell_type": "markdown",
   "metadata": {},
   "source": [
    "## Results: \n",
    "The Bucket DS took the longest of those shown, with KD tree following, and Quad tree being the fastest.  There is only a relevancy in the QT being the fastest in the 2D comparison.  We can draw upon the analysis above to see that the other two DSs increase in time efficiency as the number of dimensions increases.  So, we can only conclude from these findings that QT has the highest performance in the 2D space. \n",
    "\n",
    "It is also interesting to note that the Bucket DS beat the KD tree above at a sample size of 128,000.  While this is illustrated here as well, we can see that as the sample size increases, the KD tree pulls ahead and is captured in an almost logrithmic (O(nlogn)) asymptotic behavior, while the Bucket DS is seemingly linear (O(n)).\n",
    "\n",
    "The number of points doesn't have a great effect on the QT."
   ]
  },
  {
   "cell_type": "markdown",
   "metadata": {},
   "source": [
    "# Distribution Analysis"
   ]
  },
  {
   "cell_type": "code",
   "execution_count": 42,
   "metadata": {},
   "outputs": [
    {
     "data": {
      "image/png": "[encoded data removed]",
      "text/plain": [
       "<Figure size 432x288 with 1 Axes>"
      ]
     },
     "metadata": {
      "needs_background": "light"
     },
     "output_type": "display_data"
    }
   ],
   "source": [
    "df_dis_bucket = df_bucket[(df_bucket['Dimension'] == 2) & \n",
    "                        (df_bucket['Number of Points'] == 12800) & (df_bucket['K'] == 8)]\n",
    "\n",
    "df_dis_kd = df_kd[(df_kd['Dimension'] == 2) & (df_kd['Number of Points'] == 12800) &\n",
    "                        (df_kd['K'] == 8)]\n",
    "\n",
    "df_dis_quad = df_quad[(df_quad['Dimension'] == 2) & (df_quad['Number of Points'] == 12800) &\n",
    "                        (df_quad['K'] == 8)]\n",
    "\n",
    "plt.scatter(df_dis_bucket[\"Distribution\"], df_dis_bucket[\"Time\"], marker='o', color='r', label='Bucket') \n",
    "plt.scatter(df_dis_kd[\"Distribution\"], df_dis_kd[\"Time\"], marker='o', color='g', label='KD')\n",
    "plt.scatter(df_dis_quad[\"Distribution\"], df_dis_quad[\"Time\"], marker='o', color='b', label='QT')\n",
    "plt.legend()\n",
    "plt.show()"
   ]
  },
  {
   "cell_type": "code",
   "execution_count": 83,
   "metadata": {},
   "outputs": [
    {
     "data": {
      "image/png": "[encoded data removed]",
      "text/plain": [
       "<Figure size 432x288 with 1 Axes>"
      ]
     },
     "metadata": {
      "needs_background": "light"
     },
     "output_type": "display_data"
    }
   ],
   "source": [
    "fig, ax = plt.subplots()\n",
    "ind = np.arange(len(df_dis_bucket[\"Distribution\"]))  # the x locations for the groups\n",
    "width = 0.35  # the width of the bars\n",
    "rects1 = ax.bar(ind - width/3, df_dis_bucket[\"Time\"], width, color ='r',\n",
    "                label='Bucket')\n",
    "\n",
    "rects2 = ax.bar(ind+ width/3, df_dis_kd[\"Time\"], width, color ='b',\n",
    "                label='KD')\n",
    "\n",
    "rects3 = ax.bar(ind, df_dis_quad[\"Time\"], width,color ='g',\n",
    "                label='QT')\n",
    "\n",
    "ax.set_ylabel('Time (in Seconds)')\n",
    "ax.set_xticks(ind)\n",
    "ax.set_xticklabels(('Uniform', 'Gaussian'))\n",
    "        \n",
    "plt.legend()\n",
    "plt.show()"
   ]
  },
  {
   "cell_type": "markdown",
   "metadata": {},
   "source": [
    "## Results: \n",
    "The bar chart is used in tandem with the above scatter plot to highlight the data in more detail.  While it looks like the DSs are converging in the scatter plot, it can be seen that there are, in fact, some differences illustrated in the bar chart.  Quad trees outperform the other DSs in both distributions.  Buckets appear to do better in a uniform distribution, whereas in a Gaussian distribution it performs substantially worse (approximately four times).  The KD tree is the least affected, in terms of performance dissimilatrity, between the three, and the QT doesn't too large a difference as well."
   ]
  },
  {
   "cell_type": "markdown",
   "metadata": {},
   "source": [
    "# Bucket Regression Analysis"
   ]
  },
  {
   "cell_type": "code",
   "execution_count": 43,
   "metadata": {},
   "outputs": [
    {
     "name": "stderr",
     "output_type": "stream",
     "text": [
      "/usr/local/lib/python3.7/site-packages/numpy/core/fromnumeric.py:2389: FutureWarning: Method .ptp is deprecated and will be removed in a future version. Use numpy.ptp instead.\n",
      "  return ptp(axis=axis, out=out, **kwargs)\n"
     ]
    },
    {
     "data": {
      "text/html": [
       "<table class=\"simpletable\">\n",
       "<caption>OLS Regression Results</caption>\n",
       "<tr>\n",
       "  <th>Dep. Variable:</th>          <td>Time</td>       <th>  R-squared:         </th> <td>   0.732</td>\n",
       "</tr>\n",
       "<tr>\n",
       "  <th>Model:</th>                   <td>OLS</td>       <th>  Adj. R-squared:    </th> <td>   0.731</td>\n",
       "</tr>\n",
       "<tr>\n",
       "  <th>Method:</th>             <td>Least Squares</td>  <th>  F-statistic:       </th> <td>   898.2</td>\n",
       "</tr>\n",
       "<tr>\n",
       "  <th>Date:</th>             <td>Mon, 24 Jun 2019</td> <th>  Prob (F-statistic):</th>  <td>  0.00</td> \n",
       "</tr>\n",
       "<tr>\n",
       "  <th>Time:</th>                 <td>15:36:57</td>     <th>  Log-Likelihood:    </th> <td>  4786.9</td>\n",
       "</tr>\n",
       "<tr>\n",
       "  <th>No. Observations:</th>      <td>  1320</td>      <th>  AIC:               </th> <td>  -9564.</td>\n",
       "</tr>\n",
       "<tr>\n",
       "  <th>Df Residuals:</th>          <td>  1315</td>      <th>  BIC:               </th> <td>  -9538.</td>\n",
       "</tr>\n",
       "<tr>\n",
       "  <th>Df Model:</th>              <td>     4</td>      <th>                     </th>     <td> </td>   \n",
       "</tr>\n",
       "<tr>\n",
       "  <th>Covariance Type:</th>      <td>nonrobust</td>    <th>                     </th>     <td> </td>   \n",
       "</tr>\n",
       "</table>\n",
       "<table class=\"simpletable\">\n",
       "<tr>\n",
       "          <td></td>            <th>coef</th>     <th>std err</th>      <th>t</th>      <th>P>|t|</th>  <th>[0.025</th>    <th>0.975]</th>  \n",
       "</tr>\n",
       "<tr>\n",
       "  <th>const</th>            <td>   -0.0003</td> <td>    0.001</td> <td>   -0.520</td> <td> 0.603</td> <td>   -0.001</td> <td>    0.001</td>\n",
       "</tr>\n",
       "<tr>\n",
       "  <th>K</th>                <td>-2.536e-05</td> <td> 5.62e-05</td> <td>   -0.452</td> <td> 0.652</td> <td>   -0.000</td> <td> 8.48e-05</td>\n",
       "</tr>\n",
       "<tr>\n",
       "  <th>Dimension</th>        <td>   -0.0009</td> <td>    0.000</td> <td>   -5.499</td> <td> 0.000</td> <td>   -0.001</td> <td>   -0.001</td>\n",
       "</tr>\n",
       "<tr>\n",
       "  <th>Number of Points</th> <td> 4.687e-08</td> <td> 8.13e-10</td> <td>   57.660</td> <td> 0.000</td> <td> 4.53e-08</td> <td> 4.85e-08</td>\n",
       "</tr>\n",
       "<tr>\n",
       "  <th>Distribution_Num</th> <td>    0.0055</td> <td>    0.000</td> <td>   15.413</td> <td> 0.000</td> <td>    0.005</td> <td>    0.006</td>\n",
       "</tr>\n",
       "</table>\n",
       "<table class=\"simpletable\">\n",
       "<tr>\n",
       "  <th>Omnibus:</th>       <td>265.995</td> <th>  Durbin-Watson:     </th> <td>   0.135</td>\n",
       "</tr>\n",
       "<tr>\n",
       "  <th>Prob(Omnibus):</th> <td> 0.000</td>  <th>  Jarque-Bera (JB):  </th> <td>2414.233</td>\n",
       "</tr>\n",
       "<tr>\n",
       "  <th>Skew:</th>          <td>-0.661</td>  <th>  Prob(JB):          </th> <td>    0.00</td>\n",
       "</tr>\n",
       "<tr>\n",
       "  <th>Kurtosis:</th>      <td> 9.492</td>  <th>  Cond. No.          </th> <td>8.38e+05</td>\n",
       "</tr>\n",
       "</table><br/><br/>Warnings:<br/>[1] Standard Errors assume that the covariance matrix of the errors is correctly specified.<br/>[2] The condition number is large, 8.38e+05. This might indicate that there are<br/>strong multicollinearity or other numerical problems."
      ],
      "text/plain": [
       "<class 'statsmodels.iolib.summary.Summary'>\n",
       "\"\"\"\n",
       "                            OLS Regression Results                            \n",
       "==============================================================================\n",
       "Dep. Variable:                   Time   R-squared:                       0.732\n",
       "Model:                            OLS   Adj. R-squared:                  0.731\n",
       "Method:                 Least Squares   F-statistic:                     898.2\n",
       "Date:                Mon, 24 Jun 2019   Prob (F-statistic):               0.00\n",
       "Time:                        15:36:57   Log-Likelihood:                 4786.9\n",
       "No. Observations:                1320   AIC:                            -9564.\n",
       "Df Residuals:                    1315   BIC:                            -9538.\n",
       "Df Model:                           4                                         \n",
       "Covariance Type:            nonrobust                                         \n",
       "====================================================================================\n",
       "                       coef    std err          t      P>|t|      [0.025      0.975]\n",
       "------------------------------------------------------------------------------------\n",
       "const               -0.0003      0.001     -0.520      0.603      -0.001       0.001\n",
       "K                -2.536e-05   5.62e-05     -0.452      0.652      -0.000    8.48e-05\n",
       "Dimension           -0.0009      0.000     -5.499      0.000      -0.001      -0.001\n",
       "Number of Points  4.687e-08   8.13e-10     57.660      0.000    4.53e-08    4.85e-08\n",
       "Distribution_Num     0.0055      0.000     15.413      0.000       0.005       0.006\n",
       "==============================================================================\n",
       "Omnibus:                      265.995   Durbin-Watson:                   0.135\n",
       "Prob(Omnibus):                  0.000   Jarque-Bera (JB):             2414.233\n",
       "Skew:                          -0.661   Prob(JB):                         0.00\n",
       "Kurtosis:                       9.492   Cond. No.                     8.38e+05\n",
       "==============================================================================\n",
       "\n",
       "Warnings:\n",
       "[1] Standard Errors assume that the covariance matrix of the errors is correctly specified.\n",
       "[2] The condition number is large, 8.38e+05. This might indicate that there are\n",
       "strong multicollinearity or other numerical problems.\n",
       "\"\"\""
      ]
     },
     "execution_count": 43,
     "metadata": {},
     "output_type": "execute_result"
    }
   ],
   "source": [
    "x = df_bucket[['K', 'Dimension', 'Number of Points', 'Distribution_Num']]\n",
    "y = df_bucket['Time']\n",
    "x = sm.add_constant(x)\n",
    "result = sm.OLS(y, x).fit()\n",
    "result.summary()"
   ]
  },
  {
   "cell_type": "markdown",
   "metadata": {},
   "source": [
    "## Results:\n",
    "The OLS data for the Bucket DS shows that the time spent on completing the methods of the Bucket is correlated highest with the Dimension, Number of Points and Distribution fields, as can be seen from the low p-values."
   ]
  },
  {
   "cell_type": "markdown",
   "metadata": {},
   "source": [
    "# KD Tree Regression Analysis"
   ]
  },
  {
   "cell_type": "code",
   "execution_count": 44,
   "metadata": {},
   "outputs": [
    {
     "data": {
      "text/html": [
       "<table class=\"simpletable\">\n",
       "<caption>OLS Regression Results</caption>\n",
       "<tr>\n",
       "  <th>Dep. Variable:</th>          <td>Time</td>       <th>  R-squared:         </th> <td>   0.174</td>\n",
       "</tr>\n",
       "<tr>\n",
       "  <th>Model:</th>                   <td>OLS</td>       <th>  Adj. R-squared:    </th> <td>   0.171</td>\n",
       "</tr>\n",
       "<tr>\n",
       "  <th>Method:</th>             <td>Least Squares</td>  <th>  F-statistic:       </th> <td>   69.13</td>\n",
       "</tr>\n",
       "<tr>\n",
       "  <th>Date:</th>             <td>Mon, 24 Jun 2019</td> <th>  Prob (F-statistic):</th> <td>3.69e-53</td>\n",
       "</tr>\n",
       "<tr>\n",
       "  <th>Time:</th>                 <td>15:37:51</td>     <th>  Log-Likelihood:    </th> <td>  4125.1</td>\n",
       "</tr>\n",
       "<tr>\n",
       "  <th>No. Observations:</th>      <td>  1320</td>      <th>  AIC:               </th> <td>  -8240.</td>\n",
       "</tr>\n",
       "<tr>\n",
       "  <th>Df Residuals:</th>          <td>  1315</td>      <th>  BIC:               </th> <td>  -8214.</td>\n",
       "</tr>\n",
       "<tr>\n",
       "  <th>Df Model:</th>              <td>     4</td>      <th>                     </th>     <td> </td>   \n",
       "</tr>\n",
       "<tr>\n",
       "  <th>Covariance Type:</th>      <td>nonrobust</td>    <th>                     </th>     <td> </td>   \n",
       "</tr>\n",
       "</table>\n",
       "<table class=\"simpletable\">\n",
       "<tr>\n",
       "          <td></td>            <th>coef</th>     <th>std err</th>      <th>t</th>      <th>P>|t|</th>  <th>[0.025</th>    <th>0.975]</th>  \n",
       "</tr>\n",
       "<tr>\n",
       "  <th>const</th>            <td>    0.0015</td> <td>    0.001</td> <td>    1.578</td> <td> 0.115</td> <td>   -0.000</td> <td>    0.003</td>\n",
       "</tr>\n",
       "<tr>\n",
       "  <th>K</th>                <td>    0.0007</td> <td> 9.27e-05</td> <td>    7.933</td> <td> 0.000</td> <td>    0.001</td> <td>    0.001</td>\n",
       "</tr>\n",
       "<tr>\n",
       "  <th>Dimension</th>        <td>   -0.0021</td> <td>    0.000</td> <td>   -8.157</td> <td> 0.000</td> <td>   -0.003</td> <td>   -0.002</td>\n",
       "</tr>\n",
       "<tr>\n",
       "  <th>Number of Points</th> <td> 1.627e-08</td> <td> 1.34e-09</td> <td>   12.126</td> <td> 0.000</td> <td> 1.36e-08</td> <td> 1.89e-08</td>\n",
       "</tr>\n",
       "<tr>\n",
       "  <th>Distribution_Num</th> <td> 1.943e-05</td> <td>    0.001</td> <td>    0.033</td> <td> 0.974</td> <td>   -0.001</td> <td>    0.001</td>\n",
       "</tr>\n",
       "</table>\n",
       "<table class=\"simpletable\">\n",
       "<tr>\n",
       "  <th>Omnibus:</th>       <td>1859.986</td> <th>  Durbin-Watson:     </th>  <td>   0.657</td> \n",
       "</tr>\n",
       "<tr>\n",
       "  <th>Prob(Omnibus):</th>  <td> 0.000</td>  <th>  Jarque-Bera (JB):  </th> <td>411060.176</td>\n",
       "</tr>\n",
       "<tr>\n",
       "  <th>Skew:</th>           <td> 8.040</td>  <th>  Prob(JB):          </th>  <td>    0.00</td> \n",
       "</tr>\n",
       "<tr>\n",
       "  <th>Kurtosis:</th>       <td>87.943</td>  <th>  Cond. No.          </th>  <td>8.38e+05</td> \n",
       "</tr>\n",
       "</table><br/><br/>Warnings:<br/>[1] Standard Errors assume that the covariance matrix of the errors is correctly specified.<br/>[2] The condition number is large, 8.38e+05. This might indicate that there are<br/>strong multicollinearity or other numerical problems."
      ],
      "text/plain": [
       "<class 'statsmodels.iolib.summary.Summary'>\n",
       "\"\"\"\n",
       "                            OLS Regression Results                            \n",
       "==============================================================================\n",
       "Dep. Variable:                   Time   R-squared:                       0.174\n",
       "Model:                            OLS   Adj. R-squared:                  0.171\n",
       "Method:                 Least Squares   F-statistic:                     69.13\n",
       "Date:                Mon, 24 Jun 2019   Prob (F-statistic):           3.69e-53\n",
       "Time:                        15:37:51   Log-Likelihood:                 4125.1\n",
       "No. Observations:                1320   AIC:                            -8240.\n",
       "Df Residuals:                    1315   BIC:                            -8214.\n",
       "Df Model:                           4                                         \n",
       "Covariance Type:            nonrobust                                         \n",
       "====================================================================================\n",
       "                       coef    std err          t      P>|t|      [0.025      0.975]\n",
       "------------------------------------------------------------------------------------\n",
       "const                0.0015      0.001      1.578      0.115      -0.000       0.003\n",
       "K                    0.0007   9.27e-05      7.933      0.000       0.001       0.001\n",
       "Dimension           -0.0021      0.000     -8.157      0.000      -0.003      -0.002\n",
       "Number of Points  1.627e-08   1.34e-09     12.126      0.000    1.36e-08    1.89e-08\n",
       "Distribution_Num  1.943e-05      0.001      0.033      0.974      -0.001       0.001\n",
       "==============================================================================\n",
       "Omnibus:                     1859.986   Durbin-Watson:                   0.657\n",
       "Prob(Omnibus):                  0.000   Jarque-Bera (JB):           411060.176\n",
       "Skew:                           8.040   Prob(JB):                         0.00\n",
       "Kurtosis:                      87.943   Cond. No.                     8.38e+05\n",
       "==============================================================================\n",
       "\n",
       "Warnings:\n",
       "[1] Standard Errors assume that the covariance matrix of the errors is correctly specified.\n",
       "[2] The condition number is large, 8.38e+05. This might indicate that there are\n",
       "strong multicollinearity or other numerical problems.\n",
       "\"\"\""
      ]
     },
     "execution_count": 44,
     "metadata": {},
     "output_type": "execute_result"
    }
   ],
   "source": [
    "x = df_kd[['K', 'Dimension', 'Number of Points', 'Distribution_Num']]\n",
    "y = df_kd['Time']\n",
    "x = sm.add_constant(x)\n",
    "result = sm.OLS(y, x).fit()\n",
    "result.summary()"
   ]
  },
  {
   "cell_type": "markdown",
   "metadata": {},
   "source": [
    "## Results:\n",
    "The KD tree, on the other hand, swaps the importance of K with the Distribution number. "
   ]
  },
  {
   "cell_type": "markdown",
   "metadata": {},
   "source": [
    "# Quad Tree Regression Analysis"
   ]
  },
  {
   "cell_type": "code",
   "execution_count": 45,
   "metadata": {},
   "outputs": [
    {
     "data": {
      "text/html": [
       "<table class=\"simpletable\">\n",
       "<caption>OLS Regression Results</caption>\n",
       "<tr>\n",
       "  <th>Dep. Variable:</th>          <td>Time</td>       <th>  R-squared:         </th> <td>   0.262</td>\n",
       "</tr>\n",
       "<tr>\n",
       "  <th>Model:</th>                   <td>OLS</td>       <th>  Adj. R-squared:    </th> <td>   0.255</td>\n",
       "</tr>\n",
       "<tr>\n",
       "  <th>Method:</th>             <td>Least Squares</td>  <th>  F-statistic:       </th> <td>   38.49</td>\n",
       "</tr>\n",
       "<tr>\n",
       "  <th>Date:</th>             <td>Mon, 24 Jun 2019</td> <th>  Prob (F-statistic):</th> <td>2.55e-21</td>\n",
       "</tr>\n",
       "<tr>\n",
       "  <th>Time:</th>                 <td>15:38:03</td>     <th>  Log-Likelihood:    </th> <td>  2464.9</td>\n",
       "</tr>\n",
       "<tr>\n",
       "  <th>No. Observations:</th>      <td>   330</td>      <th>  AIC:               </th> <td>  -4922.</td>\n",
       "</tr>\n",
       "<tr>\n",
       "  <th>Df Residuals:</th>          <td>   326</td>      <th>  BIC:               </th> <td>  -4907.</td>\n",
       "</tr>\n",
       "<tr>\n",
       "  <th>Df Model:</th>              <td>     3</td>      <th>                     </th>     <td> </td>   \n",
       "</tr>\n",
       "<tr>\n",
       "  <th>Covariance Type:</th>      <td>nonrobust</td>    <th>                     </th>     <td> </td>   \n",
       "</tr>\n",
       "</table>\n",
       "<table class=\"simpletable\">\n",
       "<tr>\n",
       "          <td></td>            <th>coef</th>     <th>std err</th>      <th>t</th>      <th>P>|t|</th>  <th>[0.025</th>    <th>0.975]</th>  \n",
       "</tr>\n",
       "<tr>\n",
       "  <th>K</th>                <td> 3.241e-06</td> <td> 2.42e-06</td> <td>    1.341</td> <td> 0.181</td> <td>-1.51e-06</td> <td> 7.99e-06</td>\n",
       "</tr>\n",
       "<tr>\n",
       "  <th>Dimension</th>        <td>-7.186e-06</td> <td> 9.24e-06</td> <td>   -0.778</td> <td> 0.437</td> <td>-2.54e-05</td> <td>  1.1e-05</td>\n",
       "</tr>\n",
       "<tr>\n",
       "  <th>Number of Points</th> <td> 3.678e-10</td> <td>  3.5e-11</td> <td>   10.515</td> <td> 0.000</td> <td> 2.99e-10</td> <td> 4.37e-10</td>\n",
       "</tr>\n",
       "<tr>\n",
       "  <th>Distribution_Num</th> <td> 2.698e-05</td> <td> 1.53e-05</td> <td>    1.766</td> <td> 0.078</td> <td>-3.08e-06</td> <td> 5.71e-05</td>\n",
       "</tr>\n",
       "</table>\n",
       "<table class=\"simpletable\">\n",
       "<tr>\n",
       "  <th>Omnibus:</th>       <td>229.862</td> <th>  Durbin-Watson:     </th> <td>   2.076</td>\n",
       "</tr>\n",
       "<tr>\n",
       "  <th>Prob(Omnibus):</th> <td> 0.000</td>  <th>  Jarque-Bera (JB):  </th> <td>3412.874</td>\n",
       "</tr>\n",
       "<tr>\n",
       "  <th>Skew:</th>          <td> 2.690</td>  <th>  Prob(JB):          </th> <td>    0.00</td>\n",
       "</tr>\n",
       "<tr>\n",
       "  <th>Kurtosis:</th>      <td>17.808</td>  <th>  Cond. No.          </th> <td>5.09e+05</td>\n",
       "</tr>\n",
       "</table><br/><br/>Warnings:<br/>[1] Standard Errors assume that the covariance matrix of the errors is correctly specified.<br/>[2] The condition number is large, 5.09e+05. This might indicate that there are<br/>strong multicollinearity or other numerical problems."
      ],
      "text/plain": [
       "<class 'statsmodels.iolib.summary.Summary'>\n",
       "\"\"\"\n",
       "                            OLS Regression Results                            \n",
       "==============================================================================\n",
       "Dep. Variable:                   Time   R-squared:                       0.262\n",
       "Model:                            OLS   Adj. R-squared:                  0.255\n",
       "Method:                 Least Squares   F-statistic:                     38.49\n",
       "Date:                Mon, 24 Jun 2019   Prob (F-statistic):           2.55e-21\n",
       "Time:                        15:38:03   Log-Likelihood:                 2464.9\n",
       "No. Observations:                 330   AIC:                            -4922.\n",
       "Df Residuals:                     326   BIC:                            -4907.\n",
       "Df Model:                           3                                         \n",
       "Covariance Type:            nonrobust                                         \n",
       "====================================================================================\n",
       "                       coef    std err          t      P>|t|      [0.025      0.975]\n",
       "------------------------------------------------------------------------------------\n",
       "K                 3.241e-06   2.42e-06      1.341      0.181   -1.51e-06    7.99e-06\n",
       "Dimension        -7.186e-06   9.24e-06     -0.778      0.437   -2.54e-05     1.1e-05\n",
       "Number of Points  3.678e-10    3.5e-11     10.515      0.000    2.99e-10    4.37e-10\n",
       "Distribution_Num  2.698e-05   1.53e-05      1.766      0.078   -3.08e-06    5.71e-05\n",
       "==============================================================================\n",
       "Omnibus:                      229.862   Durbin-Watson:                   2.076\n",
       "Prob(Omnibus):                  0.000   Jarque-Bera (JB):             3412.874\n",
       "Skew:                           2.690   Prob(JB):                         0.00\n",
       "Kurtosis:                      17.808   Cond. No.                     5.09e+05\n",
       "==============================================================================\n",
       "\n",
       "Warnings:\n",
       "[1] Standard Errors assume that the covariance matrix of the errors is correctly specified.\n",
       "[2] The condition number is large, 5.09e+05. This might indicate that there are\n",
       "strong multicollinearity or other numerical problems.\n",
       "\"\"\""
      ]
     },
     "execution_count": 45,
     "metadata": {},
     "output_type": "execute_result"
    }
   ],
   "source": [
    "x = df_quad[['K', 'Dimension', 'Number of Points', 'Distribution_Num']]\n",
    "y = df_quad['Time']\n",
    "x = sm.add_constant(x)\n",
    "result = sm.OLS(y, x).fit()\n",
    "result.summary()"
   ]
  },
  {
   "cell_type": "markdown",
   "metadata": {},
   "source": [
    "## Results:\n",
    "Because the QT has a fixed number of dimensions, it is no suprise that it has no effect on the timing of the DS.  The sample size is what affects it the most, and the distribution type comes close to not being able to reject the null hypothesis at a 0.05 level, but it fell short by 0.023."
   ]
  },
  {
   "cell_type": "markdown",
   "metadata": {},
   "source": [
    "# Unusual Aspects"
   ]
  },
  {
   "cell_type": "markdown",
   "metadata": {},
   "source": [
    "In the above QT OLS, there seems to be a difference in the plotting of the distribution type.  The plot shows that there is really no effect between the DS and the distribution type.  This is more of an interesting observation because the OLS shows the distribution type almost being within a 0.05 p-value of not being able to reject the significance of it.\n",
    "\n",
    "While looking at the K-analysis of the DSs, it is suprising that there isn't more of a constant line for the QT and Bucket DSs.  Why it varies depending on the iteration, and how much is also interesting because the Bucket DS showed a constant line when run through debug mode rather than a normal build."
   ]
  },
  {
   "cell_type": "code",
   "execution_count": null,
   "metadata": {},
   "outputs": [],
   "source": []
  }
 ],
 "metadata": {
  "kernelspec": {
   "display_name": "Python 3",
   "language": "python",
   "name": "python3"
  },
  "language_info": {
   "codemirror_mode": {
    "name": "ipython",
    "version": 3
   },
   "file_extension": ".py",
   "mimetype": "text/x-python",
   "name": "python",
   "nbconvert_exporter": "python",
   "pygments_lexer": "ipython3",
   "version": "3.7.3"
  }
 },
 "nbformat": 4,
 "nbformat_minor": 2
}
